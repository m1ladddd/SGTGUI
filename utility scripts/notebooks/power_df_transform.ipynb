{
 "cells": [
  {
   "cell_type": "code",
   "execution_count": 15,
   "metadata": {},
   "outputs": [],
   "source": [
    "import pandas as pd\n",
    "import os"
   ]
  },
  {
   "cell_type": "code",
   "execution_count": 16,
   "metadata": {},
   "outputs": [
    {
     "data": {
      "text/plain": [
       "['level_HV_power_dynamic.csv',\n",
       " 'level_HV_power_static.csv',\n",
       " 'level_LV_power_dynamic.csv',\n",
       " 'level_LV_power_static.csv',\n",
       " 'level_MV_power_dynamic.csv',\n",
       " 'level_MV_power_static.csv',\n",
       " 'network_power_dynamic.csv',\n",
       " 'network_power_static.csv',\n",
       " 'section_1_power_dynamic.csv',\n",
       " 'section_1_power_static.csv',\n",
       " 'section_2_power_dynamic.csv',\n",
       " 'section_2_power_static.csv',\n",
       " 'section_3_power_dynamic.csv',\n",
       " 'section_3_power_static.csv',\n",
       " 'section_4_power_dynamic.csv',\n",
       " 'section_4_power_static.csv',\n",
       " 'section_5_power_dynamic.csv',\n",
       " 'section_5_power_static.csv',\n",
       " 'section_6_power_dynamic.csv',\n",
       " 'section_6_power_static.csv',\n",
       " 'transformer_capacity_dynamic.csv',\n",
       " 'transformer_capacity_static.csv',\n",
       " 'transformer_power_dynamic.csv',\n",
       " 'transformer_power_static.csv']"
      ]
     },
     "execution_count": 16,
     "metadata": {},
     "output_type": "execute_result"
    }
   ],
   "source": [
    "os.listdir('csv')"
   ]
  },
  {
   "cell_type": "code",
   "execution_count": 17,
   "metadata": {},
   "outputs": [
    {
     "data": {
      "text/html": [
       "<div>\n",
       "<style scoped>\n",
       "    .dataframe tbody tr th:only-of-type {\n",
       "        vertical-align: middle;\n",
       "    }\n",
       "\n",
       "    .dataframe tbody tr th {\n",
       "        vertical-align: top;\n",
       "    }\n",
       "\n",
       "    .dataframe thead th {\n",
       "        text-align: right;\n",
       "    }\n",
       "</style>\n",
       "<table border=\"1\" class=\"dataframe\">\n",
       "  <thead>\n",
       "    <tr style=\"text-align: right;\">\n",
       "      <th></th>\n",
       "      <th>1071763866_Transformer0</th>\n",
       "      <th>1071746625_Transformer0</th>\n",
       "      <th>1072051579_Transformer0</th>\n",
       "      <th>1071746557_Transformer0</th>\n",
       "    </tr>\n",
       "    <tr>\n",
       "      <th>snapshot</th>\n",
       "      <th></th>\n",
       "      <th></th>\n",
       "      <th></th>\n",
       "      <th></th>\n",
       "    </tr>\n",
       "  </thead>\n",
       "  <tbody>\n",
       "    <tr>\n",
       "      <th>0</th>\n",
       "      <td>6.03879</td>\n",
       "      <td>6.00121</td>\n",
       "      <td>-0.28</td>\n",
       "      <td>0.41</td>\n",
       "    </tr>\n",
       "  </tbody>\n",
       "</table>\n",
       "</div>"
      ],
      "text/plain": [
       "          1071763866_Transformer0  1071746625_Transformer0  \\\n",
       "snapshot                                                     \n",
       "0                         6.03879                  6.00121   \n",
       "\n",
       "          1072051579_Transformer0  1071746557_Transformer0  \n",
       "snapshot                                                    \n",
       "0                           -0.28                     0.41  "
      ]
     },
     "execution_count": 17,
     "metadata": {},
     "output_type": "execute_result"
    }
   ],
   "source": [
    "transformer_df = pd.read_csv('csv/transformer_power_static.csv', index_col='snapshot')\n",
    "transformer_df"
   ]
  },
  {
   "cell_type": "code",
   "execution_count": 18,
   "metadata": {},
   "outputs": [
    {
     "name": "stdout",
     "output_type": "stream",
     "text": [
      "1071763866_Transformer0 [6.03879]\n",
      "1071746625_Transformer0 [6.00121]\n",
      "1072051579_Transformer0 [-0.28]\n",
      "1071746557_Transformer0 [0.41]\n"
     ]
    }
   ],
   "source": [
    "for col in transformer_df.columns:\n",
    "    print(col, transformer_df[col].tolist())"
   ]
  },
  {
   "cell_type": "code",
   "execution_count": 19,
   "metadata": {},
   "outputs": [
    {
     "data": {
      "text/html": [
       "<div>\n",
       "<style scoped>\n",
       "    .dataframe tbody tr th:only-of-type {\n",
       "        vertical-align: middle;\n",
       "    }\n",
       "\n",
       "    .dataframe tbody tr th {\n",
       "        vertical-align: top;\n",
       "    }\n",
       "\n",
       "    .dataframe thead th {\n",
       "        text-align: right;\n",
       "    }\n",
       "</style>\n",
       "<table border=\"1\" class=\"dataframe\">\n",
       "  <thead>\n",
       "    <tr style=\"text-align: right;\">\n",
       "      <th></th>\n",
       "      <th>s_nom</th>\n",
       "    </tr>\n",
       "    <tr>\n",
       "      <th>name</th>\n",
       "      <th></th>\n",
       "    </tr>\n",
       "  </thead>\n",
       "  <tbody>\n",
       "    <tr>\n",
       "      <th>1071763866_Transformer0</th>\n",
       "      <td>63.00</td>\n",
       "    </tr>\n",
       "    <tr>\n",
       "      <th>1071746625_Transformer0</th>\n",
       "      <td>63.00</td>\n",
       "    </tr>\n",
       "    <tr>\n",
       "      <th>1072051579_Transformer0</th>\n",
       "      <td>0.63</td>\n",
       "    </tr>\n",
       "    <tr>\n",
       "      <th>1071746557_Transformer0</th>\n",
       "      <td>0.63</td>\n",
       "    </tr>\n",
       "  </tbody>\n",
       "</table>\n",
       "</div>"
      ],
      "text/plain": [
       "                         s_nom\n",
       "name                          \n",
       "1071763866_Transformer0  63.00\n",
       "1071746625_Transformer0  63.00\n",
       "1072051579_Transformer0   0.63\n",
       "1071746557_Transformer0   0.63"
      ]
     },
     "execution_count": 19,
     "metadata": {},
     "output_type": "execute_result"
    }
   ],
   "source": [
    "transformer_cap = pd.read_csv('csv/transformer_capacity_static.csv', index_col='name')\n",
    "transformer_cap"
   ]
  },
  {
   "cell_type": "code",
   "execution_count": 20,
   "metadata": {},
   "outputs": [
    {
     "name": "stdout",
     "output_type": "stream",
     "text": [
      "1071763866_Transformer0 [63.0, 63.0, 63.0, 63.0, 63.0, 63.0, 63.0, 63.0, 63.0, 63.0, 63.0, 63.0, 63.0, 63.0, 63.0, 63.0, 63.0, 63.0, 63.0, 63.0, 63.0, 63.0, 63.0, 63.0]\n",
      "1071746625_Transformer0 [63.0, 63.0, 63.0, 63.0, 63.0, 63.0, 63.0, 63.0, 63.0, 63.0, 63.0, 63.0, 63.0, 63.0, 63.0, 63.0, 63.0, 63.0, 63.0, 63.0, 63.0, 63.0, 63.0, 63.0]\n",
      "1072051579_Transformer0 [0.63, 0.63, 0.63, 0.63, 0.63, 0.63, 0.63, 0.63, 0.63, 0.63, 0.63, 0.63, 0.63, 0.63, 0.63, 0.63, 0.63, 0.63, 0.63, 0.63, 0.63, 0.63, 0.63, 0.63]\n",
      "1071746557_Transformer0 [0.63, 0.63, 0.63, 0.63, 0.63, 0.63, 0.63, 0.63, 0.63, 0.63, 0.63, 0.63, 0.63, 0.63, 0.63, 0.63, 0.63, 0.63, 0.63, 0.63, 0.63, 0.63, 0.63, 0.63]\n"
     ]
    },
    {
     "data": {
      "text/plain": [
       "{'1071763866_Transformer0': [63.0,\n",
       "  63.0,\n",
       "  63.0,\n",
       "  63.0,\n",
       "  63.0,\n",
       "  63.0,\n",
       "  63.0,\n",
       "  63.0,\n",
       "  63.0,\n",
       "  63.0,\n",
       "  63.0,\n",
       "  63.0,\n",
       "  63.0,\n",
       "  63.0,\n",
       "  63.0,\n",
       "  63.0,\n",
       "  63.0,\n",
       "  63.0,\n",
       "  63.0,\n",
       "  63.0,\n",
       "  63.0,\n",
       "  63.0,\n",
       "  63.0,\n",
       "  63.0],\n",
       " '1071746625_Transformer0': [63.0,\n",
       "  63.0,\n",
       "  63.0,\n",
       "  63.0,\n",
       "  63.0,\n",
       "  63.0,\n",
       "  63.0,\n",
       "  63.0,\n",
       "  63.0,\n",
       "  63.0,\n",
       "  63.0,\n",
       "  63.0,\n",
       "  63.0,\n",
       "  63.0,\n",
       "  63.0,\n",
       "  63.0,\n",
       "  63.0,\n",
       "  63.0,\n",
       "  63.0,\n",
       "  63.0,\n",
       "  63.0,\n",
       "  63.0,\n",
       "  63.0,\n",
       "  63.0],\n",
       " '1072051579_Transformer0': [0.63,\n",
       "  0.63,\n",
       "  0.63,\n",
       "  0.63,\n",
       "  0.63,\n",
       "  0.63,\n",
       "  0.63,\n",
       "  0.63,\n",
       "  0.63,\n",
       "  0.63,\n",
       "  0.63,\n",
       "  0.63,\n",
       "  0.63,\n",
       "  0.63,\n",
       "  0.63,\n",
       "  0.63,\n",
       "  0.63,\n",
       "  0.63,\n",
       "  0.63,\n",
       "  0.63,\n",
       "  0.63,\n",
       "  0.63,\n",
       "  0.63,\n",
       "  0.63],\n",
       " '1071746557_Transformer0': [0.63,\n",
       "  0.63,\n",
       "  0.63,\n",
       "  0.63,\n",
       "  0.63,\n",
       "  0.63,\n",
       "  0.63,\n",
       "  0.63,\n",
       "  0.63,\n",
       "  0.63,\n",
       "  0.63,\n",
       "  0.63,\n",
       "  0.63,\n",
       "  0.63,\n",
       "  0.63,\n",
       "  0.63,\n",
       "  0.63,\n",
       "  0.63,\n",
       "  0.63,\n",
       "  0.63,\n",
       "  0.63,\n",
       "  0.63,\n",
       "  0.63,\n",
       "  0.63]}"
      ]
     },
     "execution_count": 20,
     "metadata": {},
     "output_type": "execute_result"
    }
   ],
   "source": [
    "df = transformer_cap['s_nom'].to_dict()\n",
    "\n",
    "for k,v in df.items():\n",
    "    df[k] = [v] * 24\n",
    "\n",
    "for k,v in df.items():\n",
    "    print(k,v)\n",
    "\n",
    "df"
   ]
  },
  {
   "cell_type": "code",
   "execution_count": 21,
   "metadata": {},
   "outputs": [
    {
     "name": "stdout",
     "output_type": "stream",
     "text": [
      "9.59\n",
      "1071763866_Transformer0 [6.03879] 63.0\n",
      "9.53\n",
      "1071746625_Transformer0 [6.00121] 63.0\n",
      "44.44\n",
      "1072051579_Transformer0 [-0.28] 0.63\n",
      "65.08\n",
      "1071746557_Transformer0 [0.41] 0.63\n"
     ]
    }
   ],
   "source": [
    "tran = transformer_df\n",
    "tran_cap = transformer_cap\n",
    "\n",
    "for col in tran.columns:\n",
    "    print(round(abs(tran[col].tolist()[0] / tran_cap['s_nom'].loc[col] * 100), 2))\n",
    "    print(col, tran[col].tolist(), tran_cap['s_nom'].loc[col])\n",
    "\n"
   ]
  },
  {
   "cell_type": "code",
   "execution_count": 22,
   "metadata": {},
   "outputs": [
    {
     "data": {
      "text/html": [
       "<div>\n",
       "<style scoped>\n",
       "    .dataframe tbody tr th:only-of-type {\n",
       "        vertical-align: middle;\n",
       "    }\n",
       "\n",
       "    .dataframe tbody tr th {\n",
       "        vertical-align: top;\n",
       "    }\n",
       "\n",
       "    .dataframe thead th {\n",
       "        text-align: right;\n",
       "    }\n",
       "</style>\n",
       "<table border=\"1\" class=\"dataframe\">\n",
       "  <thead>\n",
       "    <tr style=\"text-align: right;\">\n",
       "      <th></th>\n",
       "      <th>Generation</th>\n",
       "      <th>Load</th>\n",
       "    </tr>\n",
       "    <tr>\n",
       "      <th>snapshot</th>\n",
       "      <th></th>\n",
       "      <th></th>\n",
       "    </tr>\n",
       "  </thead>\n",
       "  <tbody>\n",
       "    <tr>\n",
       "      <th>0</th>\n",
       "      <td>12.284</td>\n",
       "      <td>0.0</td>\n",
       "    </tr>\n",
       "  </tbody>\n",
       "</table>\n",
       "</div>"
      ],
      "text/plain": [
       "          Generation  Load\n",
       "snapshot                  \n",
       "0             12.284   0.0"
      ]
     },
     "execution_count": 22,
     "metadata": {},
     "output_type": "execute_result"
    }
   ],
   "source": [
    "section_1_static_df = pd.read_csv('csv/section_1_power_static.csv', index_col='snapshot')\n",
    "section_1_static_df"
   ]
  },
  {
   "cell_type": "code",
   "execution_count": 39,
   "metadata": {},
   "outputs": [
    {
     "data": {
      "text/plain": [
       "{'Generation': 12.284, 'Load': 0.0}"
      ]
     },
     "execution_count": 39,
     "metadata": {},
     "output_type": "execute_result"
    }
   ],
   "source": [
    "section_1_static_df.to_dict(orient='records')[0]"
   ]
  },
  {
   "cell_type": "code",
   "execution_count": 25,
   "metadata": {},
   "outputs": [
    {
     "data": {
      "text/html": [
       "<div>\n",
       "<style scoped>\n",
       "    .dataframe tbody tr th:only-of-type {\n",
       "        vertical-align: middle;\n",
       "    }\n",
       "\n",
       "    .dataframe tbody tr th {\n",
       "        vertical-align: top;\n",
       "    }\n",
       "\n",
       "    .dataframe thead th {\n",
       "        text-align: right;\n",
       "    }\n",
       "</style>\n",
       "<table border=\"1\" class=\"dataframe\">\n",
       "  <thead>\n",
       "    <tr style=\"text-align: right;\">\n",
       "      <th></th>\n",
       "      <th>Generation</th>\n",
       "      <th>Load</th>\n",
       "    </tr>\n",
       "    <tr>\n",
       "      <th>snapshot</th>\n",
       "      <th></th>\n",
       "      <th></th>\n",
       "    </tr>\n",
       "  </thead>\n",
       "  <tbody>\n",
       "    <tr>\n",
       "      <th>2021-07-01 00:00:00</th>\n",
       "      <td>19.515000</td>\n",
       "      <td>0.0</td>\n",
       "    </tr>\n",
       "    <tr>\n",
       "      <th>2021-07-01 01:00:00</th>\n",
       "      <td>19.492600</td>\n",
       "      <td>0.0</td>\n",
       "    </tr>\n",
       "    <tr>\n",
       "      <th>2021-07-01 02:00:00</th>\n",
       "      <td>19.472000</td>\n",
       "      <td>0.0</td>\n",
       "    </tr>\n",
       "    <tr>\n",
       "      <th>2021-07-01 03:00:00</th>\n",
       "      <td>19.469400</td>\n",
       "      <td>0.0</td>\n",
       "    </tr>\n",
       "    <tr>\n",
       "      <th>2021-07-01 04:00:00</th>\n",
       "      <td>19.210300</td>\n",
       "      <td>0.0</td>\n",
       "    </tr>\n",
       "    <tr>\n",
       "      <th>2021-07-01 05:00:00</th>\n",
       "      <td>16.592900</td>\n",
       "      <td>0.0</td>\n",
       "    </tr>\n",
       "    <tr>\n",
       "      <th>2021-07-01 06:00:00</th>\n",
       "      <td>11.585600</td>\n",
       "      <td>0.0</td>\n",
       "    </tr>\n",
       "    <tr>\n",
       "      <th>2021-07-01 07:00:00</th>\n",
       "      <td>5.751990</td>\n",
       "      <td>0.0</td>\n",
       "    </tr>\n",
       "    <tr>\n",
       "      <th>2021-07-01 08:00:00</th>\n",
       "      <td>0.634795</td>\n",
       "      <td>0.0</td>\n",
       "    </tr>\n",
       "    <tr>\n",
       "      <th>2021-07-01 09:00:00</th>\n",
       "      <td>0.000000</td>\n",
       "      <td>0.0</td>\n",
       "    </tr>\n",
       "    <tr>\n",
       "      <th>2021-07-01 10:00:00</th>\n",
       "      <td>0.000000</td>\n",
       "      <td>0.0</td>\n",
       "    </tr>\n",
       "    <tr>\n",
       "      <th>2021-07-01 11:00:00</th>\n",
       "      <td>0.000000</td>\n",
       "      <td>0.0</td>\n",
       "    </tr>\n",
       "    <tr>\n",
       "      <th>2021-07-01 12:00:00</th>\n",
       "      <td>0.000000</td>\n",
       "      <td>0.0</td>\n",
       "    </tr>\n",
       "    <tr>\n",
       "      <th>2021-07-01 13:00:00</th>\n",
       "      <td>0.000000</td>\n",
       "      <td>0.0</td>\n",
       "    </tr>\n",
       "    <tr>\n",
       "      <th>2021-07-01 14:00:00</th>\n",
       "      <td>0.000000</td>\n",
       "      <td>0.0</td>\n",
       "    </tr>\n",
       "    <tr>\n",
       "      <th>2021-07-01 15:00:00</th>\n",
       "      <td>0.000000</td>\n",
       "      <td>0.0</td>\n",
       "    </tr>\n",
       "    <tr>\n",
       "      <th>2021-07-01 16:00:00</th>\n",
       "      <td>0.000000</td>\n",
       "      <td>0.0</td>\n",
       "    </tr>\n",
       "    <tr>\n",
       "      <th>2021-07-01 17:00:00</th>\n",
       "      <td>4.497590</td>\n",
       "      <td>0.0</td>\n",
       "    </tr>\n",
       "    <tr>\n",
       "      <th>2021-07-01 18:00:00</th>\n",
       "      <td>8.564600</td>\n",
       "      <td>0.0</td>\n",
       "    </tr>\n",
       "    <tr>\n",
       "      <th>2021-07-01 19:00:00</th>\n",
       "      <td>14.329500</td>\n",
       "      <td>0.0</td>\n",
       "    </tr>\n",
       "    <tr>\n",
       "      <th>2021-07-01 20:00:00</th>\n",
       "      <td>18.478700</td>\n",
       "      <td>0.0</td>\n",
       "    </tr>\n",
       "    <tr>\n",
       "      <th>2021-07-01 21:00:00</th>\n",
       "      <td>19.512200</td>\n",
       "      <td>0.0</td>\n",
       "    </tr>\n",
       "    <tr>\n",
       "      <th>2021-07-01 22:00:00</th>\n",
       "      <td>19.513200</td>\n",
       "      <td>0.0</td>\n",
       "    </tr>\n",
       "    <tr>\n",
       "      <th>2021-07-01 23:00:00</th>\n",
       "      <td>19.515000</td>\n",
       "      <td>0.0</td>\n",
       "    </tr>\n",
       "  </tbody>\n",
       "</table>\n",
       "</div>"
      ],
      "text/plain": [
       "                     Generation  Load\n",
       "snapshot                             \n",
       "2021-07-01 00:00:00   19.515000   0.0\n",
       "2021-07-01 01:00:00   19.492600   0.0\n",
       "2021-07-01 02:00:00   19.472000   0.0\n",
       "2021-07-01 03:00:00   19.469400   0.0\n",
       "2021-07-01 04:00:00   19.210300   0.0\n",
       "2021-07-01 05:00:00   16.592900   0.0\n",
       "2021-07-01 06:00:00   11.585600   0.0\n",
       "2021-07-01 07:00:00    5.751990   0.0\n",
       "2021-07-01 08:00:00    0.634795   0.0\n",
       "2021-07-01 09:00:00    0.000000   0.0\n",
       "2021-07-01 10:00:00    0.000000   0.0\n",
       "2021-07-01 11:00:00    0.000000   0.0\n",
       "2021-07-01 12:00:00    0.000000   0.0\n",
       "2021-07-01 13:00:00    0.000000   0.0\n",
       "2021-07-01 14:00:00    0.000000   0.0\n",
       "2021-07-01 15:00:00    0.000000   0.0\n",
       "2021-07-01 16:00:00    0.000000   0.0\n",
       "2021-07-01 17:00:00    4.497590   0.0\n",
       "2021-07-01 18:00:00    8.564600   0.0\n",
       "2021-07-01 19:00:00   14.329500   0.0\n",
       "2021-07-01 20:00:00   18.478700   0.0\n",
       "2021-07-01 21:00:00   19.512200   0.0\n",
       "2021-07-01 22:00:00   19.513200   0.0\n",
       "2021-07-01 23:00:00   19.515000   0.0"
      ]
     },
     "execution_count": 25,
     "metadata": {},
     "output_type": "execute_result"
    }
   ],
   "source": [
    "section_1_dynamic_df = pd.read_csv('csv/section_1_power_dynamic.csv', index_col='snapshot')\n",
    "section_1_dynamic_df"
   ]
  },
  {
   "cell_type": "code",
   "execution_count": 35,
   "metadata": {},
   "outputs": [
    {
     "data": {
      "text/plain": [
       "{'Generation': [19.515,\n",
       "  19.4926,\n",
       "  19.472,\n",
       "  19.4694,\n",
       "  19.2103,\n",
       "  16.5929,\n",
       "  11.5856,\n",
       "  5.75199,\n",
       "  0.634795,\n",
       "  0.0,\n",
       "  0.0,\n",
       "  0.0,\n",
       "  0.0,\n",
       "  0.0,\n",
       "  0.0,\n",
       "  0.0,\n",
       "  0.0,\n",
       "  4.49759,\n",
       "  8.5646,\n",
       "  14.3295,\n",
       "  18.4787,\n",
       "  19.5122,\n",
       "  19.5132,\n",
       "  19.515],\n",
       " 'Load': [0.0,\n",
       "  0.0,\n",
       "  0.0,\n",
       "  0.0,\n",
       "  0.0,\n",
       "  0.0,\n",
       "  0.0,\n",
       "  0.0,\n",
       "  0.0,\n",
       "  0.0,\n",
       "  0.0,\n",
       "  0.0,\n",
       "  0.0,\n",
       "  0.0,\n",
       "  0.0,\n",
       "  0.0,\n",
       "  0.0,\n",
       "  0.0,\n",
       "  0.0,\n",
       "  0.0,\n",
       "  0.0,\n",
       "  0.0,\n",
       "  0.0,\n",
       "  0.0]}"
      ]
     },
     "execution_count": 35,
     "metadata": {},
     "output_type": "execute_result"
    }
   ],
   "source": [
    "section_1_dynamic_df.to_dict(orient='list')"
   ]
  },
  {
   "cell_type": "code",
   "execution_count": 42,
   "metadata": {},
   "outputs": [
    {
     "data": {
      "text/plain": [
       "{'Storage': 1.7, 'Generation': 31.614, 'Load': 33.31400000000001}"
      ]
     },
     "execution_count": 42,
     "metadata": {},
     "output_type": "execute_result"
    }
   ],
   "source": [
    "network_df = pd.read_csv('csv/network_power_static.csv', index_col='snapshot')\n",
    "network_df.to_dict(orient='records')[0]"
   ]
  },
  {
   "cell_type": "code",
   "execution_count": 45,
   "metadata": {},
   "outputs": [
    {
     "name": "stdout",
     "output_type": "stream",
     "text": [
      "Storage [0.0617893, 0.0406657, 0.0289714, 0.0274768, 0.0, 0.0, 0.0, 0.0, 0.0, 0.0, 0.0, 0.0, 0.0, 0.0, 0.0, 0.0, 0.0, 0.0, 0.0, 0.231086, 0.0, 0.231086, 0.212139, 0.166786]\n",
      "Generation [32.645, 32.6226, 32.602000000000004, 32.5994, 32.615665, 32.5947, 32.61242, 32.65719, 32.719695, 32.75829, 32.76051, 32.77056, 32.804, 32.777249999999995, 32.75963, 32.730599999999995, 32.72506, 32.75739, 32.849000000000004, 32.67769, 32.90791, 32.644259, 32.6432, 32.645]\n",
      "Load [32.70674981100002, 32.66327876499999, 32.63101139, 32.62689119900002, 32.615655055, 32.594660357, 32.612444153000006, 32.65724258700001, 32.71965838500001, 32.75832321400001, 32.760515236, 32.770582300000015, 32.80403093199999, 32.77728014499999, 32.75962218999998, 32.730557602000005, 32.72506537099997, 32.757389575000005, 32.84896738300001, 32.90876087200002, 32.907908419000016, 32.87539342600001, 32.85529989100002, 32.81174360200001]\n"
     ]
    }
   ],
   "source": [
    "network_df = pd.read_csv('csv/network_power_dynamic.csv', index_col='snapshot')\n",
    "d = network_df.to_dict(orient='list')\n",
    "\n",
    "for k,v in d.items():\n",
    "    print(k,v)"
   ]
  }
 ],
 "metadata": {
  "kernelspec": {
   "display_name": "Python 3",
   "language": "python",
   "name": "python3"
  },
  "language_info": {
   "codemirror_mode": {
    "name": "ipython",
    "version": 3
   },
   "file_extension": ".py",
   "mimetype": "text/x-python",
   "name": "python",
   "nbconvert_exporter": "python",
   "pygments_lexer": "ipython3",
   "version": "3.10.9"
  },
  "orig_nbformat": 4
 },
 "nbformat": 4,
 "nbformat_minor": 2
}
